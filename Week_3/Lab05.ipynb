{
 "cells": [
  {
   "cell_type": "code",
   "execution_count": 36,
   "metadata": {},
   "outputs": [],
   "source": [
    "# Lists\n",
    "# Q1:Coordinates\n",
    "def coords(fn, seq, lower, upper):\n",
    "    return [[x, fn(x)] for x in seq if fn(x) >= lower and fn(x) <= upper]"
   ]
  },
  {
   "cell_type": "code",
   "execution_count": 63,
   "metadata": {},
   "outputs": [],
   "source": [
    "# Q2:Riffle Shuffle\n",
    "def riffle(deck):\n",
    "#     a = list(deck)\n",
    "#     shuffle = []\n",
    "#     for i in range(int(len(a)/2)):\n",
    "#         shuffle = shuffle + [a[i]] + [a[i+int(len(a)/2)]]\n",
    "#     return shuffle\n",
    "    return [row[i] for row in zip(deck[:len(deck)//2],deck[len(deck)//2:]) for i in range(2)]"
   ]
  },
  {
   "cell_type": "code",
   "execution_count": 106,
   "metadata": {},
   "outputs": [],
   "source": [
    "# Trees \n",
    "# Q3:Finding Berries!\n",
    "def berry_finder(t):\n",
    "    # 判断label是否是berry\n",
    "    if label(t) == 'berry':\n",
    "        return True\n",
    "    # 判断分支是否为空\n",
    "    elif not branches(t):\n",
    "        return False\n",
    "    # 递归调用分支继续上述过程\n",
    "    else:\n",
    "        for branch in branches(t):\n",
    "            if berry_finder(branch):\n",
    "                return True\n",
    "    return False"
   ]
  },
  {
   "cell_type": "code",
   "execution_count": null,
   "metadata": {},
   "outputs": [],
   "source": [
    "# Q4:Sprout leaves\n",
    "def sprout_leaves(t, leaves):\n",
    "    return tree(label(t),[tree(i) for i in leaves]) if is_leaf(t) else tree(label(t),[sprout_leaves(branch,leaves) for branch in branches(t)])"
   ]
  },
  {
   "cell_type": "code",
   "execution_count": 119,
   "metadata": {},
   "outputs": [],
   "source": [
    "def tree(label, branches=[]):\n",
    "    for branch in branches:\n",
    "        assert is_tree(branch), 'branches must be trees'    # Verifies the tree definition\n",
    "    return [label] + list (branches)  # Creates a list from a sequence of branches\n",
    "\n",
    "def label(tree):\n",
    "    return tree[0]\n",
    "\n",
    "def branches(tree):\n",
    "    return tree[1:]\n",
    "\n",
    "def is_tree(tree):\n",
    "    if type(tree) != list or len(tree) < 1:  # Verifies that tree is bound to a list\n",
    "        return False\n",
    "    for branch in branches(tree):\n",
    "        if not is_tree(branch):\n",
    "            return False\n",
    "    return True\n",
    "\n",
    "def is_leaf(tree):\n",
    "    return not branches(tree)\n",
    "\n",
    "\n",
    "def print_tree(t, indent=0):\n",
    "    print('  ' * indent + str(label(t)))\n",
    "    for b in branches(t):\n",
    "        print_tree(b, indent+1)"
   ]
  },
  {
   "cell_type": "code",
   "execution_count": 123,
   "metadata": {},
   "outputs": [],
   "source": [
    "# Q6:Add trees\n",
    "def add_trees(t1, t2):\n",
    "    # # 初代版本，只适用于二叉树\n",
    "    # if is_leaf(t1) and is_leaf(t2):\n",
    "    #     return tree(label(t1)+label(t2), )\n",
    "    # elif is_leaf(t1) and not is_leaf(t2):\n",
    "    #     return tree(label(t1)+label(t2), [branch for branch in branches(t2)])\n",
    "    # elif is_leaf(t2) and not is_leaf(t1):\n",
    "    #     return tree(label(t1)+label(t2), [branch for branch in branches(t1)])\n",
    "    # else:\n",
    "    #     return tree(label(t1)+label(t2), [add_trees(t1[1], t2[1]),add_trees(t1[2], t2[2])])\n",
    "\n",
    "    # 判断t1或者t2是否为空，是的话直接返回另一个树\n",
    "    if not t1:\n",
    "        return t2\n",
    "    if not t2:\n",
    "        return t1\n",
    "    # 新树的label\n",
    "    new_label = label(t1) + label(t2)\n",
    "    # 用t1_children, t2_children分别保存t1, t2的所有branch\n",
    "    t1_children, t2_children = branches(t1), branches(t2)\n",
    "    # 判断哪个branch较少，为其补上None，为后续调用zip做准备\n",
    "    if len(t1_children) < len(t2_children):\n",
    "        t1_children += [None for i in range(len(t1_children),len(t2_children))]\n",
    "    elif len(t1_children) > len(t2_children):\n",
    "        t2_children += [None for i in range(len(t2_children),len(t1_children))]\n",
    "\n",
    "    return tree(new_label,[add_trees(child1, child2) for child1, child2 in zip(t1_children, t2_children)])"
   ]
  }
 ],
 "metadata": {
  "kernelspec": {
   "display_name": "Python 3",
   "language": "python",
   "name": "python3"
  },
  "language_info": {
   "codemirror_mode": {
    "name": "ipython",
    "version": 3
   },
   "file_extension": ".py",
   "mimetype": "text/x-python",
   "name": "python",
   "nbconvert_exporter": "python",
   "pygments_lexer": "ipython3",
   "version": "3.10.6"
  },
  "orig_nbformat": 4
 },
 "nbformat": 4,
 "nbformat_minor": 2
}
