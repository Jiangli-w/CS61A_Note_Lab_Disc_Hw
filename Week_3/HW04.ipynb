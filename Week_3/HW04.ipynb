{
 "cells": [
  {
   "attachments": {},
   "cell_type": "markdown",
   "metadata": {},
   "source": [
    "# Mobiles\n",
    "\n",
    "## Q1:Weights\n",
    "\n",
    "Implement the planet data abstraction by completing the planet constructor and the size selector so that a planet is represented using a two-element list where the first element is the string 'planet' and the second element is its size. The total_weight example is provided to demonstrate use of the mobile, arm, and planet abstractions."
   ]
  },
  {
   "cell_type": "code",
   "execution_count": 3,
   "metadata": {},
   "outputs": [],
   "source": [
    "def mobile(left, right):\n",
    "    \"\"\"Construct a mobile from a left arm and a right arm.\"\"\"\n",
    "    assert is_arm(left), \"left must be a arm\"\n",
    "    assert is_arm(right), \"right must be a arm\"\n",
    "    return ['mobile', left, right]\n",
    "\n",
    "def is_mobile(m):\n",
    "    \"\"\"Return whether m is a mobile.\"\"\"\n",
    "    return type(m) == list and len(m) == 3 and m[0] == 'mobile'\n",
    "\n",
    "def left(m):\n",
    "    \"\"\"Select the left arm of a mobile.\"\"\"\n",
    "    assert is_mobile(m), \"must call left on a mobile\"\n",
    "    return m[1]\n",
    "\n",
    "def right(m):\n",
    "    \"\"\"Select the right arm of a mobile.\"\"\"\n",
    "    assert is_mobile(m), \"must call right on a mobile\"\n",
    "    return m[2]"
   ]
  },
  {
   "cell_type": "code",
   "execution_count": 4,
   "metadata": {},
   "outputs": [],
   "source": [
    "def arm(length, mobile_or_planet):\n",
    "    \"\"\"Construct a arm: a length of rod with a mobile or planet at the end.\"\"\"\n",
    "    assert is_mobile(mobile_or_planet) or is_planet(mobile_or_planet)\n",
    "    return ['arm', length, mobile_or_planet]\n",
    "\n",
    "def is_arm(s):\n",
    "    \"\"\"Return whether s is a arm.\"\"\"\n",
    "    return type(s) == list and len(s) == 3 and s[0] == 'arm'\n",
    "\n",
    "def length(s):\n",
    "    \"\"\"Select the length of a arm.\"\"\"\n",
    "    assert is_arm(s), \"must call length on a arm\"\n",
    "    return s[1]\n",
    "\n",
    "def end(s):\n",
    "    \"\"\"Select the mobile or planet hanging at the end of a arm.\"\"\"\n",
    "    assert is_arm(s), \"must call end on a arm\"\n",
    "    return s[2]"
   ]
  },
  {
   "cell_type": "code",
   "execution_count": 5,
   "metadata": {},
   "outputs": [],
   "source": [
    "def planet(size):\n",
    "    assert size > 0 , 'size must > 0'\n",
    "    return ['planet', size]\n",
    "\n",
    "def size(w):\n",
    "    assert is_planet(w), 'must call size on a planet'\n",
    "    return w[1]\n",
    "\n",
    "def is_planet(w):\n",
    "    return type(w) == list and len(w) == 2 and w[0] == 'planet'"
   ]
  },
  {
   "cell_type": "code",
   "execution_count": 6,
   "metadata": {},
   "outputs": [],
   "source": [
    "def total_weight(m):\n",
    "    \"\"\"Return the total weight of m, a planet or mobile.\n",
    "\n",
    "    >>> t, u, v = examples()\n",
    "    >>> total_weight(t)\n",
    "    3\n",
    "    >>> total_weight(u)\n",
    "    6\n",
    "    >>> total_weight(v)\n",
    "    9\n",
    "    >>> from construct_check import check\n",
    "    >>> # checking for abstraction barrier violations by banning indexing\n",
    "    >>> check(HW_SOURCE_FILE, 'total_weight', ['Index'])\n",
    "    True\n",
    "    \"\"\"\n",
    "    if is_planet(m):\n",
    "        return size(m)\n",
    "    else:\n",
    "        assert is_mobile(m), \"must get total weight of a mobile or a planet\"\n",
    "        return total_weight(end(left(m))) + total_weight(end(right(m)))"
   ]
  },
  {
   "attachments": {},
   "cell_type": "markdown",
   "metadata": {},
   "source": [
    "## Q2:Balanced\n",
    "\n",
    "Implement the balanced function, which returns whether m is a balanced mobile. A mobile is balanced if two conditions are met:\n",
    "\n",
    "1. The torque applied by its left arm is equal to that applied by its right arm. The torque of the left arm is the length of the left rod multiplied by the total weight hanging from that rod. Likewise for the right. For example, if the left arm has a length of 5, and there is a mobile hanging at the end of the left arm of weight 10, the torque on the left side of our mobile is 50.\n",
    "2. Each of the mobiles hanging at the end of its arms is balanced.\n",
    "\n",
    "Planets themselves are balanced, as there is nothing hanging off of them."
   ]
  },
  {
   "cell_type": "code",
   "execution_count": 17,
   "metadata": {},
   "outputs": [],
   "source": [
    "def balanced(m):\n",
    "    if is_planet(m):\n",
    "        return True\n",
    "    # 判断每个arm末端是否平衡，以及总体是否平衡\n",
    "    elif length(left(m)) * total_weight(end(left(m))) == length(right(m)) * total_weight(end(right(m))) and balanced(end(left(m))) and balanced(end(right(m))):\n",
    "        return True\n",
    "    return False"
   ]
  },
  {
   "attachments": {},
   "cell_type": "markdown",
   "metadata": {},
   "source": [
    "## Q3:Totals\n",
    "\n",
    "Implement totals_tree, which takes a mobile (or planet) and returns a tree whose root is the total weight of the input. For a planet, totals_tree should return a leaf. For a mobile, totals_tree should return a tree whose label is that mobile's total weight, and whose branches are totals_trees for the ends of its arms."
   ]
  },
  {
   "cell_type": "code",
   "execution_count": 25,
   "metadata": {},
   "outputs": [],
   "source": [
    "def totals_tree(m):\n",
    "    if is_planet(m):\n",
    "        return tree(total_weight(m),[])\n",
    "    else:\n",
    "        return tree(total_weight(m), [totals_tree(end(left(m))), totals_tree(end(right(m)))])\n"
   ]
  },
  {
   "attachments": {},
   "cell_type": "markdown",
   "metadata": {},
   "source": [
    "# Trees\n",
    "\n",
    "## Q4:Replace Leaf\n",
    "\n",
    "Define replace_leaf, which takes a tree t, a value find_value, and a value replace_value. replace_leaf returns a new tree that's the same as t except that every leaf label equal to find_value has been replaced with replace_value."
   ]
  },
  {
   "cell_type": "code",
   "execution_count": 26,
   "metadata": {},
   "outputs": [],
   "source": [
    "def replace_leaf(t, find_value, replace_value):\n",
    "    if is_leaf(t):\n",
    "        if label(t) == find_value:\n",
    "            return tree(replace_value, [])\n",
    "        return t\n",
    "    else:\n",
    "        return tree(label(t), [replace_leaf(branch, find_value, replace_value) for branch in branches(t)])"
   ]
  },
  {
   "attachments": {},
   "cell_type": "markdown",
   "metadata": {},
   "source": [
    "## Q5:Preorder\n",
    "\n",
    "Define the function preorder, which takes in a tree as an argument and returns a list of all the entries in the tree in the order that print_tree would print them.\n",
    "\n",
    "The following diagram shows the order that the nodes would get printed, with the arrows representing function calls.\n",
    "![preorder](../Picture/preorder.png)"
   ]
  },
  {
   "cell_type": "code",
   "execution_count": 29,
   "metadata": {},
   "outputs": [],
   "source": [
    "def preorder(t):\n",
    "    order = [label(t)]\n",
    "    if is_leaf(t):\n",
    "        return order\n",
    "    for branch in branches(t):\n",
    "        order += preorder(branch)\n",
    "    return order"
   ]
  },
  {
   "attachments": {},
   "cell_type": "markdown",
   "metadata": {},
   "source": [
    "## Q6:Has Path\n",
    "\n",
    "Write a function has_path that takes in a tree t and a string phrase. It returns True if there is a path that starts from the root where the entries along the path spell out the phrase, and False otherwise. (This data structure is called a trie, and it has a lot of cool applications!---think autocomplete). You may assume that every node's label is exactly one character."
   ]
  },
  {
   "cell_type": "code",
   "execution_count": 30,
   "metadata": {},
   "outputs": [],
   "source": [
    "def has_path(t, phrase):\n",
    "    assert len(phrase) > 0\n",
    "    if label(t) != phrase[0]:\n",
    "        return False\n",
    "    elif len(phrase) == 1:\n",
    "        return True\n",
    "    for branch in branches(t):\n",
    "        if has_path(branch, phrase[1:]):\n",
    "            return True\n",
    "    return False"
   ]
  },
  {
   "attachments": {},
   "cell_type": "markdown",
   "metadata": {},
   "source": [
    "# Extra Quesitons\n",
    "\n",
    "## Q7:Inerval Abstraction\n",
    "\n",
    "Alyssa's program is incomplete because she has not specified the implementation of the interval abstraction. She has implemented the constructor for you; fill in the implementation of the selectors."
   ]
  },
  {
   "cell_type": "code",
   "execution_count": 2,
   "metadata": {},
   "outputs": [],
   "source": [
    "def interval(a, b):\n",
    "    return [a, b]\n",
    "\n",
    "def lower_bound(x):\n",
    "    return x[0]\n",
    "\n",
    "def upper_bound(x):\n",
    "    return x[1]\n",
    "\n",
    "def str_interval(x):\n",
    "    return '{0} to {1}'.format(lower_bound(x), upper_bound(x))\n"
   ]
  },
  {
   "attachments": {},
   "cell_type": "markdown",
   "metadata": {},
   "source": [
    "Louis Reasoner has also provided an implementation of interval multiplication. Beware: there are some data abstraction violations, so help him fix his code before someone sets it on fire."
   ]
  },
  {
   "cell_type": "code",
   "execution_count": 3,
   "metadata": {},
   "outputs": [],
   "source": [
    "def mul_interval(x, y):\n",
    "    \"\"\"Return the interval that contains the product of any value in x and any\n",
    "    value in y.\"\"\"\n",
    "    p1 = lower_bound(x) * lower_bound(y)\n",
    "    p2 = lower_bound(x) * upper_bound(y)\n",
    "    p3 = upper_bound(x) * lower_bound(y)\n",
    "    p4 = upper_bound(x) * upper_bound(y)\n",
    "    return interval(min(p1, p2, p3, p4), max(p1, p2, p3, p4))"
   ]
  },
  {
   "attachments": {},
   "cell_type": "markdown",
   "metadata": {},
   "source": [
    "## Q8:Sub Interval\n",
    "\n",
    "Using reasoning analogous to Alyssa's, define a subtraction function for intervals. Try to reuse functions that have already been implemented if you find yourself repeating code."
   ]
  },
  {
   "cell_type": "code",
   "execution_count": 4,
   "metadata": {},
   "outputs": [],
   "source": [
    "def sub_interval(x, y):\n",
    "    return interval(lower_bound(x) - upper_bound(y), upper_bound(x) - lower_bound(y))"
   ]
  },
  {
   "attachments": {},
   "cell_type": "markdown",
   "metadata": {},
   "source": [
    "## Q9:Div Interval\n",
    "\n",
    "Alyssa implements division below by multiplying by the reciprocal of y. Ben Bitdiddle, an expert systems programmer, looks over Alyssa's shoulder and comments that it is not clear what it means to divide by an interval that spans zero. Add an assert statement to Alyssa's code to ensure that no such interval is used as a divisor:"
   ]
  },
  {
   "cell_type": "code",
   "execution_count": 5,
   "metadata": {},
   "outputs": [],
   "source": [
    "def div_interval(x, y):\n",
    "    assert upper_bound(y) * lower_bound(y) > 0, 'balabala'\n",
    "    reciprocal_y = interval(1/upper_bound(y), 1/lower_bound(y))\n",
    "    return mul_interval(x, reciprocal_y)"
   ]
  }
 ],
 "metadata": {
  "kernelspec": {
   "display_name": "Python 3",
   "language": "python",
   "name": "python3"
  },
  "language_info": {
   "codemirror_mode": {
    "name": "ipython",
    "version": 3
   },
   "file_extension": ".py",
   "mimetype": "text/x-python",
   "name": "python",
   "nbconvert_exporter": "python",
   "pygments_lexer": "ipython3",
   "version": "3.10.6"
  },
  "orig_nbformat": 4
 },
 "nbformat": 4,
 "nbformat_minor": 2
}
