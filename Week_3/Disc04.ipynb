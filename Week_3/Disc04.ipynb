{
 "cells": [
  {
   "cell_type": "code",
   "execution_count": 9,
   "metadata": {},
   "outputs": [],
   "source": [
    "# Questions 1.1\n",
    "\n",
    "def multiply(m, n):\n",
    "    \"\"\"\n",
    "    >>> multipy(5, 3)\n",
    "    15\n",
    "    \"\"\"\n",
    "    if m > n:\n",
    "        m, n = n, m\n",
    "    if m == 1:\n",
    "        return n\n",
    "    else:\n",
    "        return n + multiply(m-1,n)"
   ]
  },
  {
   "cell_type": "code",
   "execution_count": 2,
   "metadata": {},
   "outputs": [],
   "source": [
    "# Questions 1.2\n",
    "def is_prime(n):\n",
    "    def prime_helper(n, k):\n",
    "        if k == 1:\n",
    "            return True\n",
    "        elif n % k == 0:\n",
    "            return False\n",
    "        else:\n",
    "            return prime_helper(n, k-1)\n",
    "    if n == 1:\n",
    "        return False\n",
    "    else:\n",
    "        return prime_helper(n, n-1)\n",
    "    \n"
   ]
  },
  {
   "cell_type": "code",
   "execution_count": 1,
   "metadata": {},
   "outputs": [],
   "source": [
    "# Questions 2.1\n",
    "def count_stair_ways(n):\n",
    "    if n == 1 or n == 0:\n",
    "        return 1\n",
    "    return count_stair_ways(n-1) + count_stair_ways(n-2)"
   ]
  },
  {
   "cell_type": "code",
   "execution_count": 2,
   "metadata": {},
   "outputs": [],
   "source": [
    "# Questions 2.2\n",
    "def count_k(n, k):\n",
    "    if n == 0:\n",
    "        return 1\n",
    "    elif n < 0:\n",
    "        return 0\n",
    "    total, i = 0, 1\n",
    "    while i <= k:\n",
    "        total += count_k(n-i, k)\n",
    "        i += 1\n",
    "    return total"
   ]
  },
  {
   "cell_type": "code",
   "execution_count": 25,
   "metadata": {},
   "outputs": [],
   "source": [
    "# Questions 3.1\n",
    "# What would Python display?\n",
    ">>> a = [1, 5, 4, [2, 3], 3]\n",
    ">>> print(a[0], a[-1])\n",
    "1 3\n",
    "\n",
    ">>> len(a)\n",
    "5\n",
    "\n",
    ">>> 2 in a\n",
    "False\n",
    "\n",
    ">>> 4 in a \n",
    "True\n",
    "\n",
    ">>> a[3][0]\n",
    "2"
   ]
  },
  {
   "cell_type": "code",
   "execution_count": 1,
   "metadata": {},
   "outputs": [],
   "source": [
    "# Questions 3.2\n",
    "def even_weighted(s):\n",
    "    return [i * s[i] for i in range(0, len(s)) if i % 2 == 0]"
   ]
  },
  {
   "cell_type": "code",
   "execution_count": 7,
   "metadata": {},
   "outputs": [],
   "source": [
    "# Questions 3.3\n",
    "def max_product(s):\n",
    "    # 初始化两个变量，分别存储包含和不包含前一个元素的最大乘积\n",
    "    pre_included = s[0]\n",
    "    pre_excluded = 1\n",
    "\n",
    "    # 遍历列表剩余部分\n",
    "    for i in range(1, len(s)):\n",
    "        # 当前元素被包含时最大乘积为\n",
    "        # 1. 之前部分元素的乘积乘以当前元素\n",
    "        # 2. 当前元素本身（之前部分元素的乘积小于等于1）\n",
    "        curr_included = max(pre_excluded * s[i], s[i])\n",
    "        # 当前元素不被包含时的最大乘积为\n",
    "        # 1. 包含前一个元素的乘积\n",
    "        # 2. 不包含前一个元素的乘积\n",
    "        curr_excluded = max(pre_included, pre_excluded)\n",
    "        # 更新变量，进下一次循环\n",
    "        pre_included = curr_included\n",
    "        pre_excluded = curr_excluded\n",
    "    return max(curr_included, curr_excluded)"
   ]
  },
  {
   "cell_type": "code",
   "execution_count": 28,
   "metadata": {},
   "outputs": [],
   "source": [
    "# Whole Numbers\n",
    "# (a)\n",
    "def check_hole_number(n):\n",
    "    s = str(n)\n",
    "    for i in range(0, len(s)):\n",
    "        if i % 2 == 1:\n",
    "            if s[i] >= s[i+1] or s[i] >= s[i-1]:\n",
    "                return False\n",
    "    return True"
   ]
  },
  {
   "cell_type": "code",
   "execution_count": 8,
   "metadata": {},
   "outputs": [],
   "source": [
    "# Whole Numbers\n",
    "# (b)\n",
    "def check_mountain_number(n):\n",
    "    # convert the number to a list of digits\n",
    "    digits = [int(d) for d in str(n)]\n",
    "    # find the index of the maximum digit\n",
    "    max_index = digits.index(max(digits))\n",
    "    # check if the digits are strictly increasing from right to left until the maximum\n",
    "    for i in range(max_index):\n",
    "        if digits[i] >= digits[i+1]:\n",
    "            return False\n",
    "    # check if the digits are strictly decreasing from left to right after the maximum\n",
    "    for i in range(max_index, len(digits)-1):\n",
    "        if digits[i] <= digits[i+1]:\n",
    "            return False\n",
    "    # return True if both conditions are satisfied\n",
    "    return True"
   ]
  }
 ],
 "metadata": {
  "kernelspec": {
   "display_name": "Python 3",
   "language": "python",
   "name": "python3"
  },
  "language_info": {
   "codemirror_mode": {
    "name": "ipython",
    "version": 3
   },
   "file_extension": ".py",
   "mimetype": "text/x-python",
   "name": "python",
   "nbconvert_exporter": "python",
   "pygments_lexer": "ipython3",
   "version": "3.10.6"
  },
  "orig_nbformat": 4
 },
 "nbformat": 4,
 "nbformat_minor": 2
}
