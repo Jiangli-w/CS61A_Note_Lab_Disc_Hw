{
 "cells": [
  {
   "attachments": {},
   "cell_type": "markdown",
   "metadata": {},
   "source": [
    "# 1. Trees\n",
    "\n",
    "下面是树的构造函数"
   ]
  },
  {
   "cell_type": "code",
   "execution_count": 1,
   "metadata": {},
   "outputs": [],
   "source": [
    "def tree(label, branches=[]):\n",
    "    for branch in branches:\n",
    "        assert is_tree(branch), 'branches must be trees'    # Verifies the tree definition\n",
    "    return [label] + list (branches)  # Creates a list from a sequence of branches\n",
    "\n",
    "def label(tree):\n",
    "    return tree[0]\n",
    "\n",
    "def branches(tree):\n",
    "    return tree[1:]\n",
    "\n",
    "def is_tree(tree):\n",
    "    if type(tree) != list or len(tree) < 1:  # Verifies that tree is bound to a list\n",
    "        return False\n",
    "    for branch in branches(tree):\n",
    "        if not is_tree(branch):\n",
    "            return False\n",
    "    return True\n",
    "\n",
    "def is_leaf(tree):\n",
    "    return not branches(tree)\n",
    "\n",
    "\n",
    "def print_tree(t, indent=0):\n",
    "    print('  ' * indent + str(label(t)))\n",
    "    for b in branches(t):\n",
    "        print_tree(b, indent+1)"
   ]
  },
  {
   "attachments": {},
   "cell_type": "markdown",
   "metadata": {},
   "source": [
    "## Questions 1.1\n",
    "\n",
    "Write a function that returns the height of a tree. Recall that the height of a tree\n",
    "is the length of the longest path from the root to a leaf."
   ]
  },
  {
   "cell_type": "code",
   "execution_count": 2,
   "metadata": {},
   "outputs": [],
   "source": [
    "def height(t):\n",
    "    if is_leaf(t):\n",
    "        return 0\n",
    "    return 1 + max([height(branch) for branch in branches(t)])\n",
    "            "
   ]
  },
  {
   "attachments": {},
   "cell_type": "markdown",
   "metadata": {},
   "source": [
    "## Questions 1.2\n",
    "\n",
    "Write a function that takes in a tree and squares every value. It should return a\n",
    "new tree. You can assume that every item is a number."
   ]
  },
  {
   "cell_type": "code",
   "execution_count": 3,
   "metadata": {},
   "outputs": [],
   "source": [
    "def square_tree(t):\n",
    "    if is_leaf(t):\n",
    "       return tree(label(t)**2,)\n",
    "    return tree(label(t)**2,[square_tree(branch) for branch in branches(t)]) "
   ]
  },
  {
   "attachments": {},
   "cell_type": "markdown",
   "metadata": {},
   "source": [
    "## Questions 1.3\n",
    "\n",
    "Write a function that takes in a tree and a value x and returns a list containing the\n",
    "nodes along the path required to get from the root of the tree to a node containing\n",
    "x.\n",
    "\n",
    "If x is not present in the tree, return None. Assume that the entries of the tree are\n",
    "unique.\n",
    "\n",
    "For the following tree, find path(t, 5) should return [2, 7, 6, 5]\n",
    "![Tree](../Picture/disc05_Q1_3.png)"
   ]
  },
  {
   "cell_type": "code",
   "execution_count": 12,
   "metadata": {},
   "outputs": [],
   "source": [
    "def find_path(t, x):\n",
    "    if label(t) == x:\n",
    "        return [label(t)]\n",
    "    for branch in branches(t):\n",
    "        path = find_path(branch, x)\n",
    "        if path:\n",
    "            return [label(t)] + path\n"
   ]
  },
  {
   "attachments": {},
   "cell_type": "markdown",
   "metadata": {},
   "source": [
    "## Questions 1.4\n",
    "\n",
    "Consider a tree ADT t = tree(1, [tree(2), tree(3)]). For each of the following expressions, answer these two questions:\n",
    "\n",
    "* What does the expression evaluate to?\n",
    "* Does the expression violate any abstraction barriers? If so, write an equivalent expression that does not violate abstraction barriers."
   ]
  },
  {
   "cell_type": "code",
   "execution_count": 27,
   "metadata": {},
   "outputs": [],
   "source": [
    "\n",
    "1. label(t)\n",
    "    1\n",
    "2. t[0]\n",
    "    1 Violate abstraction barriers\n",
    "    label(t)\n",
    "3. label(branches(t)[0])\n",
    "    2\n",
    "4. label(branches(t))\n",
    "    [2] Violate abstraction barriers\n",
    "    branches(t)[0]\n",
    "5. is_leaf(t[1:][1])\n",
    "    True Violate abstraction barriers\n",
    "    is_leaf(branches(t)[1])\n",
    "6. [label(b) for b in branches(t)]\n",
    "    [2, 3]\n",
    "7. branches(tree(2, tree(t, [])))[0]\n",
    "    [1, [2], [3]] Violate abstraction barriers\n",
    "    branches(tree(2, [t]))[0]\n",
    "\n"
   ]
  },
  {
   "attachments": {},
   "cell_type": "markdown",
   "metadata": {},
   "source": [
    "# 2. Mutation"
   ]
  },
  {
   "attachments": {},
   "cell_type": "markdown",
   "metadata": {},
   "source": [
    "## Questions 2.1\n",
    "\n",
    "What would Python display? In addition to giving the output, draw the box and\n",
    "pointer diagrams for each list to the right."
   ]
  },
  {
   "cell_type": "code",
   "execution_count": 33,
   "metadata": {},
   "outputs": [],
   "source": [
    ">>> lst1 = [1, 2, 3]\n",
    "    no output\n",
    ">>> lst2 = lst1\n",
    "    no output\n",
    ">>> lst1 is lst2\n",
    "    True\n",
    ">>> lst2.extend([5, 6])\n",
    "    no output \n",
    ">>> lst1[4]\n",
    "    6\n",
    ">>> lst1.append([-1, 0, 1])\n",
    "    no output\n",
    ">>> -1 in lst1\n",
    "    False\n",
    ">>> lst2[5]\n",
    "    [-1, 0, 1]\n",
    ">>> lst3 = lst2[:]\n",
    "    no output\n",
    ">>> lst3.insert(3, lst2.pop(3))\n",
    "    no output\n",
    ">>> len(lst1)\n",
    "    5\n",
    ">>> lst1[4] is lst3[6]\n",
    "    True\n",
    ">>> lst3[lst2[4][1]]\n",
    "    1\n",
    ">>> lst1[:3] is lst2[:3]\n",
    "    False\n",
    ">>> lst1[:3] == lst2[:3]\n",
    "    True\n",
    ">>> x = (1, 2, [4, 5, 6])\n",
    "    no output\n",
    ">>> x[2] = [3, 5, 6]\n",
    "    Error\n",
    ">>> x \n",
    "    (1, 2, [4, 5, 6])\n",
    ">>> x[2][0] = 3\n",
    "    no output\n",
    ">>> x \n",
    "    (1, 2, [3, 5, 6])\n"
   ]
  },
  {
   "attachments": {},
   "cell_type": "markdown",
   "metadata": {},
   "source": [
    "## Questions 2.2\n",
    "\n",
    "Write a function that takes in a value x, a value el, and a list and adds as many\n",
    "el’s to the end of the list as there are x’s. Make sure to modify the original\n",
    "list using list mutation techniques.\n"
   ]
  },
  {
   "cell_type": "code",
   "execution_count": 41,
   "metadata": {},
   "outputs": [],
   "source": [
    "def add_this_many(x, el, lst):\n",
    "    count = 0\n",
    "    for element in lst:\n",
    "        if element == x:\n",
    "            count += 1\n",
    "    while count > 0:\n",
    "        lst.append(el)\n",
    "        count -= 1\n",
    "    return lst"
   ]
  },
  {
   "attachments": {},
   "cell_type": "markdown",
   "metadata": {},
   "source": [
    "## Questions 2.3\n",
    "\n",
    "Write a function that takes in a sequence s and a function fn and returns a dictionary.\n",
    "\n",
    "The values of the dictionary are lists of elements from s. Each element e in a list\n",
    "should be constructed such that fn(e) is the same for all elements in that list.\n",
    "Finally, the key for each value should be fn(e)."
   ]
  },
  {
   "cell_type": "code",
   "execution_count": 44,
   "metadata": {},
   "outputs": [],
   "source": [
    "def group_by(s, fn):\n",
    "    group = {}\n",
    "    for i in s:\n",
    "        key = fn(i)\n",
    "        if key in group:\n",
    "            group[key].append(i)\n",
    "        else:\n",
    "            group[key] = [i]\n",
    "    return group"
   ]
  },
  {
   "attachments": {},
   "cell_type": "markdown",
   "metadata": {},
   "source": [
    "# Quiz\n",
    "1. So Many Options...\n",
    "\n",
    "(a) Implement the following function partition_options which outputs all the ways to partition a number\n",
    "total using numbers no larger than biggest.\n"
   ]
  },
  {
   "cell_type": "code",
   "execution_count": 47,
   "metadata": {},
   "outputs": [],
   "source": [
    "def partition_options(total, biggest):\n",
    "    if total == 0:\n",
    "        return [[]]\n",
    "    elif total < 0 or biggest == 0:\n",
    "        return []\n",
    "    else:\n",
    "        with_biggest = partition_options(total-biggest, biggest)\n",
    "        without_biggest = partition_options(total, biggest-1)\n",
    "        with_biggest = [[biggest] + elem for elem in with_biggest]\n",
    "        return with_biggest + without_biggest\n"
   ]
  },
  {
   "attachments": {},
   "cell_type": "markdown",
   "metadata": {},
   "source": [
    "(b) Return the minimum number of elements from the  list that need to be summed in order to add up to T.\n",
    "The same element can be used multiple times in the sum. For example, for T = 11 and lst = [5, 4, 1] we\n",
    "should return 3 because at minimum we need to add 3 numbers together (5, 5, and 1). You can assume\n",
    "that there always exists a linear combination of the elements in lst that equals T.\n"
   ]
  },
  {
   "cell_type": "code",
   "execution_count": 50,
   "metadata": {},
   "outputs": [],
   "source": [
    "def min_elements(T, lst):\n",
    "    if T == 0:\n",
    "        return 0\n",
    "    return min([1 + min_elements(T - i, lst) for i in lst if T - i >=0])"
   ]
  }
 ],
 "metadata": {
  "kernelspec": {
   "display_name": "Python 3",
   "language": "python",
   "name": "python3"
  },
  "language_info": {
   "codemirror_mode": {
    "name": "ipython",
    "version": 3
   },
   "file_extension": ".py",
   "mimetype": "text/x-python",
   "name": "python",
   "nbconvert_exporter": "python",
   "pygments_lexer": "ipython3",
   "version": "3.10.6"
  },
  "orig_nbformat": 4
 },
 "nbformat": 4,
 "nbformat_minor": 2
}
