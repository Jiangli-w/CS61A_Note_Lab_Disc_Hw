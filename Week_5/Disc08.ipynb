{
 "cells": [
  {
   "attachments": {},
   "cell_type": "markdown",
   "metadata": {},
   "source": [
    "# 1. Iterators\n",
    "\n",
    "## Questions 1.1\n",
    "\n",
    ".1 What would Python display? If a StopIteration Exception occurs, write StopIteration,\n",
    "and if another error occurs, write Error."
   ]
  },
  {
   "cell_type": "code",
   "execution_count": null,
   "metadata": {},
   "outputs": [],
   "source": [
    ">>> lst = [6, 1, \"a\"]\n",
    ">>> next(lst)\n",
    "Error\n",
    "\n",
    ">>> lst_iter = iter(lst)\n",
    ">>> next(lst_iter)\n",
    "6\n",
    "\n",
    ">>> next(lst_iter)\n",
    "1\n",
    "\n",
    ">>> next(iter(lst))\n",
    "6\n",
    "\n",
    ">>> [x for x in lst_iter]\n",
    "['a']"
   ]
  },
  {
   "attachments": {},
   "cell_type": "markdown",
   "metadata": {},
   "source": [
    "# 2. Generators\n",
    "\n",
    "## Questions 2.1"
   ]
  },
  {
   "cell_type": "code",
   "execution_count": 5,
   "metadata": {},
   "outputs": [],
   "source": [
    "def generate_subsets():\n",
    "    \"\"\"\n",
    "    >>> subsets = generate_subsets()\n",
    "    >>> for _ in range(3):\n",
    "    ... print(next(subsets))\n",
    "    ...\n",
    "    [[]]\n",
    "    [[], [1]]\n",
    "    [[], [1], [2], [1, 2]]\n",
    "    \"\"\"\n",
    "    subsets = [[]]\n",
    "    n = 1\n",
    "    while True:\n",
    "        yield subsets\n",
    "        subsets = subsets + [x+[n] for x in subsets]\n",
    "        n += 1 "
   ]
  },
  {
   "attachments": {},
   "cell_type": "markdown",
   "metadata": {},
   "source": [
    "## Questions 2.2\n",
    "\n",
    "Implement sum paths gen, which takes in a tree t and and returns a generator which yields the sum of all the nodes from a path from the root of a tree to a leaf.\n",
    "\n",
    "You may yield the sums in any order."
   ]
  },
  {
   "cell_type": "code",
   "execution_count": 8,
   "metadata": {},
   "outputs": [],
   "source": [
    "def sum_paths_gen(t):\n",
    "    \"\"\"\n",
    "    >>> t1 = tree(5)\n",
    "    >>> next(sum_paths_gen(t1))\n",
    "    5\n",
    "    >>> t2 = tree(1, [tree(2, [tree(3), tree(4)]), tree(9)])\n",
    "    >>> sorted(sum_paths_gen(t2))\n",
    "    [6, 7, 10]\n",
    "    \"\"\"\n",
    "    if is_leaf(t):\n",
    "        yield label(t)\n",
    "    for b in branches(t):\n",
    "        for i in sum_paths_gen(b):\n",
    "            yield i + label(t)"
   ]
  },
  {
   "attachments": {},
   "cell_type": "markdown",
   "metadata": {},
   "source": [
    "# 3. Object Oriented Programming\n",
    "\n",
    "## Quesitons 3.1\n",
    "\n",
    "Below we have defined the classes Professor and Student, implementing some of what was described above. Remember that we pass the self argument implicitly to instance methods when using dot-notation. There are more questions on the next page.\n"
   ]
  },
  {
   "cell_type": "code",
   "execution_count": 9,
   "metadata": {},
   "outputs": [],
   "source": [
    "class Student:\n",
    "    students = 0 # this is a class attribute\n",
    "    def __init__(self, name, ta):\n",
    "        self.name = name # this is an instance attribute\n",
    "        self.understanding = 0\n",
    "        Student.students += 1\n",
    "        print(\"There are now\", Student.students, \"students\")\n",
    "        ta.add_student(self)\n",
    "\n",
    "    def visit_office_hours(self, staff):\n",
    "        staff.assist(self)\n",
    "        print(\"Thanks, \" + staff.name)\n",
    "        \n",
    "class Professor:\n",
    "    def __init__(self, name):\n",
    "        self.name = name\n",
    "        self.students = {}\n",
    "            \n",
    "    def add_student(self, student):\n",
    "        self.students[student.name] = student\n",
    "    \n",
    "    def assist(self, student):\n",
    "        student.understanding += 1"
   ]
  },
  {
   "attachments": {},
   "cell_type": "markdown",
   "metadata": {},
   "source": [
    "What will the following lines output?"
   ]
  },
  {
   "cell_type": "code",
   "execution_count": null,
   "metadata": {},
   "outputs": [],
   "source": [
    ">>> callahan = Professor(\"Callanan\")\n",
    ">>> elle = Student(\"Elle\", callahan)\n",
    "There are now 1 students\n",
    "\n",
    ">>> elle.visit_office_hours(callahan)\n",
    "Thanks, Callanan\n",
    "\n",
    ">>> elle.visit_office_hours(Professor(\"Paulette\"))\n",
    "Thanks ,Paulette\n",
    "\n",
    ">>> elle.understanding\n",
    "2\n",
    "\n",
    ">>> [name for name in callahan.students]\n",
    "['Elle']\n",
    "\n",
    ">>> x = Student(\"Vivian\", Professor(\"Stromwell\")).name\n",
    "There are now 2 students\n",
    "\n",
    ">>> x\n",
    "'Vivian'\n",
    "\n",
    ">>> [name for name in callahan.students]\n",
    "['Elle']"
   ]
  },
  {
   "attachments": {},
   "cell_type": "markdown",
   "metadata": {},
   "source": [
    "## Quesitons 3.2\n",
    "\n",
    "We now want to write three different classes, Server, Client, and Email to simulate email. Fill in the definitions below to finish the implementation! There are more methods to fill out on the next page.\n",
    "\n",
    "We suggest that you approach this problem by first filling out the Email class, then fill out the register client method of Server, then implement the Client class, and lastly fill out the send method of the Server class."
   ]
  },
  {
   "cell_type": "code",
   "execution_count": null,
   "metadata": {},
   "outputs": [],
   "source": [
    "class Email:\n",
    "    \"\"\"Every email object has 3 instance attributes: the\n",
    "    message, the sender name, and the recipient name.\n",
    "    \"\"\"\n",
    "    def __init__(self, msg, sender_name, recipient_name):\n",
    "        self.message = msg\n",
    "        self.sender_name = sender_name\n",
    "        self.recipient_name = recipient_name"
   ]
  },
  {
   "cell_type": "code",
   "execution_count": null,
   "metadata": {},
   "outputs": [],
   "source": [
    "class Server:\n",
    "    \"\"\"Each Server has an instance attribute clients, which\n",
    "    is a dictionary that associates client names with\n",
    "    client objects.\n",
    "    \"\"\"\n",
    "    def __init__(self):\n",
    "        self.clients = {}\n",
    "\n",
    "    def send(self, email):\n",
    "        \"\"\"Take an email and put it in the inbox of the client\n",
    "        it is addressed to.\n",
    "        \"\"\"\n",
    "        client = self.clients[email.recipient_name]\n",
    "        client.receive(email)\n",
    "\n",
    "    def register_client(self, client, client_name):\n",
    "        \"\"\"Takes a client object and client_name and adds them\n",
    "        to the clients instance attribute.\n",
    "        \"\"\"\n",
    "        self.clients[client_name] = client\n"
   ]
  },
  {
   "cell_type": "code",
   "execution_count": null,
   "metadata": {},
   "outputs": [],
   "source": [
    "class Client:\n",
    "    \"\"\"Every Client has instance attributes name (which is\n",
    "    used for addressing emails to the client), server\n",
    "    (which is used to send emails out to other clients), and\n",
    "    inbox (a list of all emails the client has received).\n",
    "    \"\"\"\n",
    "    def __init__(self, server, name):\n",
    "        self.inbox = []\n",
    "        self.server = server\n",
    "        self.name = name\n",
    "        self.server.register_client(self, self.name)\n",
    "\n",
    "    def compose(self, msg, recipient_name):\n",
    "        \"\"\"Send an email with the given message msg to the\n",
    "        given recipient client.\n",
    "        \"\"\"\n",
    "        email = Email(msg, self.name, recipient_name)\n",
    "        self.server.send(email)\n",
    "\n",
    "    def receive(self, email):\n",
    "        \"\"\"Take an email and add it to the inbox of this\n",
    "        client.\n",
    "        \"\"\"\n",
    "        self.inbox.append(email)\n"
   ]
  },
  {
   "attachments": {},
   "cell_type": "markdown",
   "metadata": {},
   "source": [
    "# 4. Inheritance\n",
    "\n",
    "## Questions 4.1\n",
    "\n",
    "1Below is a skeleton for the Cat class, which inherits from the Pet class. To complete the implementation, override the init and talk methods and add a new lose_life method.\n",
    "\n",
    "Hint: You can call the `__init__` method of Pet to set a cat’s name and owner."
   ]
  },
  {
   "cell_type": "code",
   "execution_count": null,
   "metadata": {},
   "outputs": [],
   "source": [
    "class Pet():\n",
    "    def __init__(self, name, owner):\n",
    "        self.is_alive = True # It's alive!!!\n",
    "        self.name = name\n",
    "        self.owner = owner\n",
    "    def eat(self, thing):\n",
    "        print(self.name + \" ate a \" + str(thing) + \"!\")\n",
    "    def talk(self):\n",
    "        print(self.name)\n",
    "        \n",
    "class Dog(Pet):\n",
    "    def talk(self):\n",
    "        print(self.name + ' says woof!')"
   ]
  },
  {
   "cell_type": "code",
   "execution_count": null,
   "metadata": {},
   "outputs": [],
   "source": [
    "class Cat(Pet):\n",
    "    def __init__(self, name, owner, lives=9):\n",
    "        Pet.__init__(self, name, owner)\n",
    "        self.lives = lives\n",
    "    \n",
    "    def talk(self):\n",
    "        \"\"\" Print out a cat's greeting.\n",
    "        >>> Cat('Thomas', 'Tammy').talk()\n",
    "        Thomas says meow!\n",
    "        \"\"\"\n",
    "        print(self.name + ' says neow!')\n",
    "\n",
    "    def lose_life(self):\n",
    "        \"\"\"Decrements a cat's life by 1. When lives reaches zero, 'is_alive'\n",
    "        becomes False. If this is called after lives has reached zero, print out\n",
    "        that the cat has no more lives to lose.\n",
    "        \"\"\"\n",
    "        if self.lives > 0:\n",
    "            self.lives -= 1\n",
    "            if self.lives == 0:\n",
    "                self.is_alive = False\n",
    "        else:\n",
    "            print(\"This cat has no more lives to lose :(\")"
   ]
  },
  {
   "attachments": {},
   "cell_type": "markdown",
   "metadata": {},
   "source": [
    "## Questions 4.2\n",
    "\n",
    "More cats! Fill in this implemention of a class called NoisyCat, which is just like a normal Cat. However, NoisyCat talks a lot – twice as much as a regular Cat!\n"
   ]
  },
  {
   "cell_type": "code",
   "execution_count": null,
   "metadata": {},
   "outputs": [],
   "source": [
    "class NoisyCat(Cat): # Fill me in!\n",
    "\n",
    "    \"\"\"A Cat that repeats things twice.\"\"\"\n",
    "    def __init__(self, name, owner, lives=9):\n",
    "        # Is this method necessary? Why or why not?\n",
    "        Cat.__init__(self, name, owner, lives)\n",
    "\n",
    "    def talk(self):\n",
    "        \"\"\"Talks twice as much as a regular cat.\n",
    "        \n",
    "        >>> NoisyCat('Magic', 'James').talk()\n",
    "        Magic says meow!\n",
    "        Magic says meow!\n",
    "        \"\"\"\n",
    "        Cat.talk(self)\n",
    "        Cat.talk(self)"
   ]
  },
  {
   "attachments": {},
   "cell_type": "markdown",
   "metadata": {},
   "source": [
    "## Questions 4.3\n",
    "\n",
    "What would Python display?"
   ]
  },
  {
   "cell_type": "code",
   "execution_count": null,
   "metadata": {},
   "outputs": [],
   "source": [
    "class A:\n",
    "    def f(self):\n",
    "        return 2\n",
    "    def g(self, obj, x):\n",
    "        if x == 0:\n",
    "            return A.f(obj)\n",
    "        return obj.f() + self.g(self, x - 1)\n",
    "\n",
    "class B(A):\n",
    "    def f(self):\n",
    "        return 4\n",
    "\n",
    ">>> x, y = A(), B()\n",
    ">>> x.f()\n",
    "2\n",
    "\n",
    ">>> B.f()\n",
    "4\n",
    "\n",
    ">>> x.g(x, 1)\n",
    "4\n",
    "\n",
    ">>> y.g(x, 2)\n",
    "8"
   ]
  }
 ],
 "metadata": {
  "kernelspec": {
   "display_name": "Python 3",
   "language": "python",
   "name": "python3"
  },
  "language_info": {
   "codemirror_mode": {
    "name": "ipython",
    "version": 3
   },
   "file_extension": ".py",
   "mimetype": "text/x-python",
   "name": "python",
   "nbconvert_exporter": "python",
   "pygments_lexer": "ipython3",
   "version": "3.10.6"
  },
  "orig_nbformat": 4
 },
 "nbformat": 4,
 "nbformat_minor": 2
}
