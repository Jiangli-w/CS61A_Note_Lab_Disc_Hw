{
 "cells": [
  {
   "attachments": {},
   "cell_type": "markdown",
   "metadata": {},
   "source": [
    "# 1 Linked Lists\n",
    "\n",
    "## Questions 1.1\n",
    "\n",
    "Write a function that takes in a a linked list and returns the sum of all its elements. You may assume all elements in lnk are integers.\n"
   ]
  },
  {
   "cell_type": "code",
   "execution_count": null,
   "metadata": {},
   "outputs": [],
   "source": [
    "def sum_nums(lnk):\n",
    "    \"\"\"\n",
    "    >>> a = Link(1, Link(6, Link(7)))\n",
    "    >>> sum_nums(a)\n",
    "    14\n",
    "    \"\"\"\n",
    "    a = 0\n",
    "    fir = lnk\n",
    "    while fir is not Link.empty:\n",
    "        a += fir.first\n",
    "        fir = fir.rest \n",
    "    return a"
   ]
  },
  {
   "attachments": {},
   "cell_type": "markdown",
   "metadata": {},
   "source": [
    "## Question 1.2\n",
    "\n",
    "Write a function that takes in a Python list of linked lists and multiplies them element-wise. It should return a new linked list.\n",
    "\n",
    "If not all of the Link objects are of equal length, return a linked list whose length is that of the shortest linked list given. You may assume the Link objects are shallow linked lists, and that lst of lnks contains at least one linked list.\n"
   ]
  },
  {
   "cell_type": "code",
   "execution_count": null,
   "metadata": {},
   "outputs": [],
   "source": [
    "def multiply_lnks(lst_of_lnks):\n",
    "    \"\"\"\n",
    "    >>> a = Link(2, Link(3, Link(5)))\n",
    "    >>> b = Link(6, Link(4, Link(2)))\n",
    "    >>> c = Link(4, Link(1, Link(0, Link(2))))\n",
    "    >>> p = multiply_lnks([a, b, c])\n",
    "    >>> p.first\n",
    "    48\n",
    "    >>> p.rest.first\n",
    "    12\n",
    "    >>> p.rest.rest.rest is Link.empty\n",
    "    True\n",
    "    \"\"\"\n",
    "    product = 1\n",
    "    for lnk in lst_of_lnks:\n",
    "        if lnk is Link.empty:\n",
    "            return Link.empty\n",
    "        product *= lnk.first\n",
    "    lst_of_lnks_rests = [lnk.rest for lnk in lst_of_lnks]\n",
    "    return Link(product, multiply_lnks(lst_of_lnks_rests))\n"
   ]
  },
  {
   "attachments": {},
   "cell_type": "markdown",
   "metadata": {},
   "source": [
    "## Questions 1.3\n",
    "\n",
    "Implement filter link, which takes in a linked list link and a function f and returns a generator which yields the values of link for which f returns True.\n",
    "\n",
    "Try to implement this both using a while loop and without using any form of iteration.\n"
   ]
  },
  {
   "cell_type": "code",
   "execution_count": null,
   "metadata": {},
   "outputs": [],
   "source": [
    "def filter_link(link, f):\n",
    "    \"\"\"\n",
    "    >>> link = Link(1, Link(2, Link(3)))\n",
    "    >>> g = filter_link(link, lambda x: x % 2 == 0)\n",
    "    >>> next(g)\n",
    "    2\n",
    "    >>> next(g)\n",
    "    StopIteration\n",
    "    >>> list(filter_link(link, lambda x: x % 2 != 0))\n",
    "    [1, 3]\n",
    "    \"\"\"\n",
    "    while link is not Link.empty:\n",
    "        if f(link.first):\n",
    "            yield link.first\n",
    "        link = link.rest"
   ]
  },
  {
   "attachments": {},
   "cell_type": "markdown",
   "metadata": {},
   "source": [
    "# 2. Trees\n",
    "\n",
    "## Questions 2.1\n",
    "\n",
    "Define a function make even which takes in a tree t whose values are integers, and mutates the tree such that all the odd integers are increased by 1 and all the even integers remain the same.\n"
   ]
  },
  {
   "cell_type": "code",
   "execution_count": 1,
   "metadata": {},
   "outputs": [],
   "source": [
    "def make_even(t):\n",
    "    \"\"\"\n",
    "    >>> t = Tree(1, [Tree(2, [Tree(3)]), Tree(4), Tree(5)])\n",
    "    >>> make_even(t)\n",
    "    >>> t.label\n",
    "    2\n",
    "    >>> t.branches[0].branches[0].label\n",
    "    4\n",
    "    \"\"\"\n",
    "    if t.label % 2 != 0:\n",
    "        t.label += 1\n",
    "    for b in t.branches:\n",
    "        make_even(b)"
   ]
  },
  {
   "attachments": {},
   "cell_type": "markdown",
   "metadata": {},
   "source": [
    "## Question 2.2\n",
    "\n",
    "Define a function square tree(t) that squares every value in the non-empty tree t. You can assume that every value is a number.\n"
   ]
  },
  {
   "cell_type": "code",
   "execution_count": 3,
   "metadata": {},
   "outputs": [],
   "source": [
    "def square_tree(t):\n",
    "    \"\"\"Mutates a Tree t by squaring all its elements.\"\"\"\n",
    "    t.label = t.label * t.label\n",
    "    for b in t.branches:\n",
    "        square_tree(b)"
   ]
  },
  {
   "attachments": {},
   "cell_type": "markdown",
   "metadata": {},
   "source": [
    "## Question 2.3\n",
    "\n",
    "Define the procedure find path that, given a Tree t and an entry, returns a list containing the nodes along the path required to get from the root of t to entry. If entry is not present in t, return False.\n",
    "\n",
    "Assume that the elements in t are unique. Find the path to an element.\n",
    "\n",
    "For instance, for the following tree tree ex, find path should return:\n",
    "\n",
    "![tree_ex](../Picture/Disc09.png)\n",
    "\n",
    "```py\n",
    ">>> tree_ex = Tree(2, [Tree(7, [Tree(3), Tree(6, [Tree(5), Tree(11)])]), Tree(1)])\n",
    ">>> find_path(tree_ex, 5)\n",
    "[2, 7, 6, 5]\n",
    "```\n"
   ]
  },
  {
   "cell_type": "code",
   "execution_count": null,
   "metadata": {},
   "outputs": [],
   "source": [
    "def find_path(t, entry):\n",
    "    path = [t.label]\n",
    "    if t.is_leaf():\n",
    "        if t.label == entry:\n",
    "            return [t.label]\n",
    "        return False\n",
    "    for b in t.branches:\n",
    "        if find_path(b, entry):\n",
    "            return path + find_path(b, entry)"
   ]
  },
  {
   "attachments": {},
   "cell_type": "markdown",
   "metadata": {},
   "source": [
    "## Questions 2.4\n",
    "\n",
    "Assuming that every value in t is a number, define average(t), which returns the average of all the values in t. You may not need to use all the provided lines.\n"
   ]
  },
  {
   "cell_type": "code",
   "execution_count": 6,
   "metadata": {},
   "outputs": [],
   "source": [
    "def average(t):\n",
    "    \"\"\"\n",
    "    Returns the average value of all the nodes in t.\n",
    "    >>> t0 = Tree(0, [Tree(1), Tree(2, [Tree(3)])])\n",
    "    >>> average(t0)\n",
    "    1.5\n",
    "    >>> t1 = Tree(8, [t0, Tree(4)])\n",
    "    >>> average(t1)\n",
    "    3.0\n",
    "    \"\"\"\n",
    "    \n",
    "    # def sum_helper(t):\n",
    "    #     total, count = t.label, 1\n",
    "    #     for b in t.branches:  # if 'b' is leaf, then it without branch, so 'branches' is []  \n",
    "    #         if b.is_leaf():       \n",
    "    #             total, count = total+b.label, count+1\n",
    "    #         else:\n",
    "    #             a, b = sum_helper(b)\n",
    "    #             total, count = total+a, count+b\n",
    "    #     return total, count  \n",
    "\n",
    "    def sum_helper(t):\n",
    "        total, count = t.label, 1\n",
    "        for b in t.branches:\n",
    "            t, c = sum_helper(b)\n",
    "            total, count = total + t, count + c\n",
    "        return total, count\n",
    "\n",
    "\n",
    "    total, count = sum_helper(t)\n",
    "    return total / count    "
   ]
  },
  {
   "attachments": {},
   "cell_type": "markdown",
   "metadata": {},
   "source": [
    "## Question 2.5\n",
    "\n",
    "Write a function that combines the values of two trees t1 and t2 together with the combiner function. Assume that t1 and t2 have identical structure. This function should return a new tree\n",
    "\n",
    "Hint: consider using the zip() function, which returns an iterator of tuples where the first items of each iterable object passed in form the first tuple, the second items are paired together and form the second tuple, and so on and so forth.\n"
   ]
  },
  {
   "cell_type": "code",
   "execution_count": null,
   "metadata": {},
   "outputs": [],
   "source": [
    "def combine_tree(t1, t2, combiner):\n",
    "   \"\"\"\n",
    "    >>> a = Tree(1, [Tree(2, [Tree(3)])])\n",
    "    >>> b = Tree(4, [Tree(5, [Tree(6)])])\n",
    "    >>> combined = combine_tree(a, b, mul)\n",
    "    >>> combined.label\n",
    "    4\n",
    "    >>> combined.branches[0].label\n",
    "    10\n",
    "    \"\"\"\n",
    "    new = combiner(t1.label, t2.label)\n",
    "    if t1.is_leaf():\n",
    "        return Tree(new)\n",
    "    return Tree(new, [combine_tree(zip(*zip(t1.branches, t2.branches)))])\n",
    "\n",
    " "
   ]
  },
  {
   "cell_type": "markdown",
   "metadata": {},
   "source": [
    "# Question 2.6\n",
    "\n",
    "Implement the alt tree map function that, given a function and a Tree, applies the function to all of the data at every other level of the tree, starting at the root."
   ]
  },
  {
   "cell_type": "code",
   "execution_count": null,
   "metadata": {},
   "outputs": [],
   "source": [
    "def alt_tree_map(t, map_fn):\n",
    "    \"\"\"\n",
    "    >>> t = Tree(1, [Tree(2, [Tree(3)]), Tree(4)])\n",
    "    >>> negate = lambda x: -x\n",
    "    >>> alt_tree_map(t, negate)\n",
    "    Tree(-1, [Tree(2, [Tree(-3)]), Tree(4)])\n",
    "    \"\"\"\n",
    "    def helper(t, depth):\n",
    "        if depth % 2 == 0:\n",
    "            label = map_fn(t.label)\n",
    "        else:\n",
    "            label = t.label\n",
    "        branches = [helper(b, depth + 1) for b in t.branches]\n",
    "        return Tree(label, branches)\n",
    "    return helper(t, 0)"
   ]
  }
 ],
 "metadata": {
  "kernelspec": {
   "display_name": "Python 3",
   "language": "python",
   "name": "python3"
  },
  "language_info": {
   "codemirror_mode": {
    "name": "ipython",
    "version": 3
   },
   "file_extension": ".py",
   "mimetype": "text/x-python",
   "name": "python",
   "nbconvert_exporter": "python",
   "pygments_lexer": "ipython3",
   "version": "3.10.6"
  },
  "orig_nbformat": 4
 },
 "nbformat": 4,
 "nbformat_minor": 2
}
