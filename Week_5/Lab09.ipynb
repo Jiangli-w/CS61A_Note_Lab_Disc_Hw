{
 "cells": [
  {
   "attachments": {},
   "cell_type": "markdown",
   "metadata": {},
   "source": [
    "# Linked Lists\n",
    "\n",
    "## Q1: WWPD:Linked Lists\n"
   ]
  },
  {
   "cell_type": "code",
   "execution_count": null,
   "metadata": {},
   "outputs": [],
   "source": [
    ">>> from lab07 import *\n",
    ">>> link = Link(1000)\n",
    ">>> link.first\n",
    "1000\n",
    "\n",
    ">>> link.rest is Link.empty\n",
    "True\n",
    "\n",
    ">>> link = Link(1000, 2000)\n",
    "Error\n",
    "\n",
    ">>> link = Link(1000, Link())\n",
    "Error"
   ]
  },
  {
   "cell_type": "code",
   "execution_count": null,
   "metadata": {},
   "outputs": [],
   "source": [
    ">>> from lab07 import *\n",
    ">>> link = Link(1, Link(2, Link(3)))\n",
    ">>> link.first\n",
    "1\n",
    "\n",
    ">>> link.rest.first\n",
    "2\n",
    "\n",
    ">>> link.rest.rest.rest is Link.empty\n",
    "True\n",
    "\n",
    ">>> link.first = 9001\n",
    ">>> link.first\n",
    "9001\n",
    "\n",
    ">>> link.rest = link.rest.rest\n",
    ">>> link.rest.first\n",
    "3\n",
    "\n",
    ">>> link = Link(1)\n",
    ">>> link.rest = link\n",
    ">>> link.rest.rest.rest.rest.first\n",
    "1\n",
    "\n",
    ">>> link = Link(2, Link(3, Link(4)))\n",
    ">>> link2 = Link(1, link)\n",
    ">>> link2.first\n",
    "1\n",
    "\n",
    ">>> link2.rest.first\n",
    "2"
   ]
  },
  {
   "cell_type": "code",
   "execution_count": null,
   "metadata": {},
   "outputs": [],
   "source": [
    ">>> from lab07 import *\n",
    ">>> link = Link(5, Link(6, Link(7)))\n",
    ">>> link                  # Look at the __repr__ method of Link\n",
    "Link(5, Link(6, Link(7)))\n",
    "\n",
    ">>> print(link)          # Look at the __str__ method of Link\n",
    "<5 6 7>"
   ]
  },
  {
   "attachments": {},
   "cell_type": "markdown",
   "metadata": {},
   "source": [
    "## Q2: Convert Link\n",
    "\n",
    "Write a function `convert_link` that takes in a linked list and returns the sequence as a Python list. You may assume that the input list is shallow; none of the elements is another linked list.\n",
    "\n",
    "Try to find both an iterative and recursive solution for this problem!"
   ]
  },
  {
   "cell_type": "code",
   "execution_count": null,
   "metadata": {},
   "outputs": [],
   "source": [
    "def convert_link(link):\n",
    "    \"\"\"Takes a linked list and returns a Python list with the same elements.\n",
    "\n",
    "    >>> link = Link(1, Link(2, Link(3, Link(4))))\n",
    "    >>> convert_link(link)\n",
    "    [1, 2, 3, 4]\n",
    "    >>> convert_link(Link.empty)\n",
    "    []\n",
    "    \"\"\"\n",
    "    \"*** YOUR CODE HERE ***\"\n",
    "    # recursive\n",
    "    if link is Link.empty:\n",
    "        return []\n",
    "    elif link.rest is link.empty:\n",
    "        return [link.first]\n",
    "    else:\n",
    "        return [link.first] + convert_link(link.rest) "
   ]
  },
  {
   "attachments": {},
   "cell_type": "markdown",
   "metadata": {},
   "source": [
    "## Q3: Every Other\n",
    "\n",
    "Implement `every_other`, which takes a linked list `s`. It mutates `s` such that all of the odd-indexed elements (using 0-based indexing) are removed from the list. For example:\n",
    "\n",
    "```py\n",
    ">>> s = Link('a', Link('b', Link('c', Link('d'))))\n",
    ">>> every_other(s)\n",
    ">>> s.first\n",
    "'a'\n",
    ">>> s.rest.first\n",
    "'c'\n",
    ">>> s.rest.rest is Link.empty\n",
    "True\n",
    "```\n",
    "\n",
    "If `s` contains fewer than two elements, `s` remains unchanged.\n",
    "\n",
    "> Do not return anything! `every_other` should mutate the original list."
   ]
  },
  {
   "cell_type": "code",
   "execution_count": null,
   "metadata": {},
   "outputs": [],
   "source": [
    "def every_other(s):\n",
    "    \"\"\"Mutates a linked list so that all the odd-indiced elements are removed\n",
    "    (using 0-based indexing).\n",
    "\n",
    "    >>> s = Link(1, Link(2, Link(3, Link(4))))\n",
    "    >>> every_other(s)\n",
    "    >>> s\n",
    "    Link(1, Link(3))\n",
    "    >>> odd_length = Link(5, Link(3, Link(1)))\n",
    "    >>> every_other(odd_length)\n",
    "    >>> odd_length\n",
    "    Link(5, Link(1))\n",
    "    >>> singleton = Link(4)\n",
    "    >>> every_other(singleton)\n",
    "    >>> singleton\n",
    "    Link(4)\n",
    "    \"\"\"\n",
    "    \"*** YOUR CODE HERE ***\"\n",
    "    if s is Link.empty or s.rest is Link.empty:\n",
    "        return\n",
    "    else:\n",
    "        s.rest = s.rest.rest\n",
    "        every_other(s.rest)"
   ]
  },
  {
   "attachments": {},
   "cell_type": "markdown",
   "metadata": {},
   "source": [
    "# Mutable Trees\n",
    "\n",
    "## Q4: Square\n",
    "\n",
    "Write a function label_squarer that mutates a Tree with numerical labels so that each label is squared."
   ]
  },
  {
   "cell_type": "code",
   "execution_count": null,
   "metadata": {},
   "outputs": [],
   "source": [
    "def label_squarer(t):\n",
    "    \"\"\"Mutates a Tree t by squaring all its elements.\n",
    "\n",
    "    >>> t = Tree(1, [Tree(3, [Tree(5)]), Tree(7)])\n",
    "    >>> label_squarer(t)\n",
    "    >>> t\n",
    "    Tree(1, [Tree(9, [Tree(25)]), Tree(49)])\n",
    "    \"\"\"\n",
    "    \"*** YOUR CODE HERE ***\"\n",
    "    t.label = t.label * t.label\n",
    "    if Tree.is_leaf(t):\n",
    "        return\n",
    "    else:\n",
    "        for b in t.branches:\n",
    "            label_squarer(b)\n"
   ]
  },
  {
   "attachments": {},
   "cell_type": "markdown",
   "metadata": {},
   "source": [
    "## Q5: Cumulative Mul\n",
    "\n",
    "Write a function cumulative_mul that mutates the Tree t so that each node's label becomes the product of all labels in the subtree rooted at the node."
   ]
  },
  {
   "cell_type": "code",
   "execution_count": null,
   "metadata": {},
   "outputs": [],
   "source": [
    "def cumulative_mul(t):\n",
    "    \"\"\"Mutates t so that each node's label becomes the product of all labels in\n",
    "    the corresponding subtree rooted at t.\n",
    "\n",
    "    >>> t = Tree(1, [Tree(3, [Tree(5)]), Tree(7)])\n",
    "    >>> cumulative_mul(t)\n",
    "    >>> t\n",
    "    Tree(105, [Tree(15, [Tree(5)]), Tree(7)])\n",
    "    \"\"\"\n",
    "    \"*** YOUR CODE HERE ***\"\n",
    "    if Tree.is_leaf(t):\n",
    "        return \n",
    "    else:\n",
    "        a = 1\n",
    "        for b in t.branches:\n",
    "            cumulative_mul(b)\n",
    "            a *= b.label\n",
    "        t.label *= a"
   ]
  },
  {
   "attachments": {},
   "cell_type": "markdown",
   "metadata": {},
   "source": [
    "## Q6: Cycles\n",
    "\n",
    "The `Link` class can represent lists with cycles. That is, a list may contain itself as a sublist.\n",
    "\n",
    "```py\n",
    ">>> s = Link(1, Link(2, Link(3)))\n",
    ">>> s.rest.rest.rest = s\n",
    ">>> s.rest.rest.rest.rest.rest.first\n",
    "3\n",
    "```\n",
    "\n",
    "Implement `has_cycle`,that returns whether its argument, a `Link` instance, contains a cycle.\n",
    "\n",
    "> Hint: Iterate through the linked list and try keeping track of which `Link` objects you've already seen."
   ]
  },
  {
   "cell_type": "code",
   "execution_count": null,
   "metadata": {},
   "outputs": [],
   "source": [
    "def has_cycle(link):\n",
    "    \"\"\"Return whether link contains a cycle.\n",
    "\n",
    "    >>> s = Link(1, Link(2, Link(3)))\n",
    "    >>> s.rest.rest.rest = s\n",
    "    >>> has_cycle(s)\n",
    "    True\n",
    "    >>> t = Link(1, Link(2, Link(3)))\n",
    "    >>> has_cycle(t)\n",
    "    False\n",
    "    >>> u = Link(2, Link(2, Link(2)))\n",
    "    >>> has_cycle(u)\n",
    "    False\n",
    "    \"\"\"\n",
    "    \"*** YOUR CODE HERE ***\"\n",
    "    links = []\n",
    "    while link is not Link.empty:\n",
    "        if link in links:\n",
    "            return True\n",
    "        links.append(link)\n",
    "        link = link.rest\n",
    "    return False"
   ]
  },
  {
   "attachments": {},
   "cell_type": "markdown",
   "metadata": {},
   "source": [
    "As an extra challenge, implement has_cycle_constant with only constant space. (If you followed the hint above, you will use linear space.) The solution is short (less than 20 lines of code), but requires a clever idea. Try to discover the solution yourself before asking around:"
   ]
  },
  {
   "cell_type": "code",
   "execution_count": null,
   "metadata": {},
   "outputs": [],
   "source": [
    "def has_cycle_constant(link):\n",
    "    \"\"\"Return whether link contains a cycle.\n",
    "\n",
    "    >>> s = Link(1, Link(2, Link(3)))\n",
    "    >>> s.rest.rest.rest = s\n",
    "    >>> has_cycle_constant(s)\n",
    "    True\n",
    "    >>> t = Link(1, Link(2, Link(3)))\n",
    "    >>> has_cycle_constant(t)\n",
    "    False\n",
    "    \"\"\"\n",
    "    \"*** YOUR CODE HERE ***\"\n",
    "    if link is Link.empty:\n",
    "        return False\n",
    "    slow, fast = link, link.rest\n",
    "    while fast is not Link.empty:\n",
    "        if fast.rest == Link.empty:\n",
    "            return False\n",
    "        elif fast == slow or fast.rest == slow:\n",
    "            return True\n",
    "        else:\n",
    "            slow, fast = slow.rest, fast.rest.rest\n",
    "    return False"
   ]
  }
 ],
 "metadata": {
  "language_info": {
   "name": "python"
  },
  "orig_nbformat": 4
 },
 "nbformat": 4,
 "nbformat_minor": 2
}
