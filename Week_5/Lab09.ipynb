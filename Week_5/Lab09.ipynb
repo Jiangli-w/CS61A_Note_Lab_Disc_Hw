{
 "cells": [
  {
   "attachments": {},
   "cell_type": "markdown",
   "metadata": {},
   "source": [
    "# Linked Lists\n",
    "\n",
    "## Q1: WWPD:Linked Lists\n"
   ]
  },
  {
   "cell_type": "code",
   "execution_count": null,
   "metadata": {},
   "outputs": [],
   "source": [
    ">>> from lab07 import *\n",
    ">>> link = Link(1000)\n",
    ">>> link.first\n",
    "1000\n",
    "\n",
    ">>> link.rest is Link.empty\n",
    "True\n",
    "\n",
    ">>> link = Link(1000, 2000)\n",
    "Error\n",
    "\n",
    ">>> link = Link(1000, Link())\n",
    "Error"
   ]
  },
  {
   "cell_type": "code",
   "execution_count": null,
   "metadata": {},
   "outputs": [],
   "source": [
    ">>> from lab07 import *\n",
    ">>> link = Link(1, Link(2, Link(3)))\n",
    ">>> link.first\n",
    "1\n",
    "\n",
    ">>> link.rest.first\n",
    "2\n",
    "\n",
    ">>> link.rest.rest.rest is Link.empty\n",
    "True\n",
    "\n",
    ">>> link.first = 9001\n",
    ">>> link.first\n",
    "9001\n",
    "\n",
    ">>> link.rest = link.rest.rest\n",
    ">>> link.rest.first\n",
    "3\n",
    "\n",
    ">>> link = Link(1)\n",
    ">>> link.rest = link\n",
    ">>> link.rest.rest.rest.rest.first\n",
    "1\n",
    "\n",
    ">>> link = Link(2, Link(3, Link(4)))\n",
    ">>> link2 = Link(1, link)\n",
    ">>> link2.first\n",
    "1\n",
    "\n",
    ">>> link2.rest.first\n",
    "2"
   ]
  },
  {
   "cell_type": "code",
   "execution_count": null,
   "metadata": {},
   "outputs": [],
   "source": [
    ">>> from lab07 import *\n",
    ">>> link = Link(5, Link(6, Link(7)))\n",
    ">>> link                  # Look at the __repr__ method of Link\n",
    "Link(5, Link(6, Link(7)))\n",
    "\n",
    ">>> print(link)          # Look at the __str__ method of Link\n",
    "______"
   ]
  }
 ],
 "metadata": {
  "language_info": {
   "name": "python"
  },
  "orig_nbformat": 4
 },
 "nbformat": 4,
 "nbformat_minor": 2
}
