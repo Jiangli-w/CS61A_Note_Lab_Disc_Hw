{
 "cells": [
  {
   "attachments": {},
   "cell_type": "markdown",
   "metadata": {},
   "source": [
    "# Disc06: Nonlocal, Midterm Review\n",
    "\n",
    "## 1 Nonlocal\n",
    "\n",
    "### Questions 1.1\n",
    "\n",
    "Draw the environment diagram for the following code."
   ]
  },
  {
   "cell_type": "code",
   "execution_count": null,
   "metadata": {},
   "outputs": [],
   "source": [
    "def stepper(num):\n",
    "    def step():\n",
    "        nonlocal num\n",
    "        num = num + 1\n",
    "        return num\n",
    "    return step\n",
    "    \n",
    "s = stepper(3)\n",
    "s()  # 4\n",
    "s()  # 5"
   ]
  },
  {
   "attachments": {},
   "cell_type": "markdown",
   "metadata": {},
   "source": [
    "### Question 1.2\n",
    "\n",
    "Write a function that takes in a number n and returns a one-argument function.\n",
    "The returned function takes in a function that is used to update n. It should return\n",
    "the updated n."
   ]
  },
  {
   "cell_type": "code",
   "execution_count": null,
   "metadata": {},
   "outputs": [],
   "source": [
    "def memory(n):\n",
    "    \"\"\"\n",
    "    >>> f = memory(10)\n",
    "    >>> f(lambda x: x * 2)\n",
    "    20\n",
    "    >>> f(lambda x: x - 7)\n",
    "    13\n",
    "    >>> f(lambda x: x > 5)\n",
    "    True\n",
    "    \"\"\"\n",
    "    def update_n(func):\n",
    "        nonlocal n\n",
    "        n = func(n)\n",
    "        return n\n",
    "    return update_n"
   ]
  },
  {
   "attachments": {},
   "cell_type": "markdown",
   "metadata": {},
   "source": [
    "## 2 Mideterm Review\n",
    "\n",
    "### Quesiton 2.1\n",
    "\n",
    "Draw the environment diagram that results from executing the code below."
   ]
  },
  {
   "cell_type": "code",
   "execution_count": null,
   "metadata": {},
   "outputs": [],
   "source": [
    "from operator import add\n",
    "\n",
    "six = 1\n",
    "\n",
    "def ty(one, a):\n",
    "    summer = one(a, six)\n",
    "    return summer\n",
    "\n",
    "six = ty(add, 6)\n",
    "summer = ty(add, 6)"
   ]
  },
  {
   "attachments": {},
   "cell_type": "markdown",
   "metadata": {},
   "source": [
    "![Environment diagram](../Picture/Disc06_Q2.1.png)\n",
    "\n",
    "### Question 2.2\n",
    "\n",
    "Write a function that takes in no arguments and returns two functions, prepend and\n",
    "get, which represent the “add to front of list” and “get the ith item” operations,\n",
    "respectively. Do not use any python built-in data structures like lists or dictionaries.\n",
    "You do not necessarily need to use all the lines.\n"
   ]
  },
  {
   "cell_type": "code",
   "execution_count": null,
   "metadata": {},
   "outputs": [],
   "source": [
    "def nonlocalist():\n",
    "    \"\"\"\n",
    "    >>> prepend, get = nonlocalist()\n",
    "    >>> prepend(2)\n",
    "    >>> prepend(3)\n",
    "    >>> prepend(4)\n",
    "    >>> get(0)\n",
    "    4\n",
    "    >>> get(1)\n",
    "    3\n",
    "    >>> get(2)\n",
    "    2\n",
    "    >>> prepend(8)\n",
    "    >>> get(2)\n",
    "    3\n",
    "    \"\"\"\n",
    "    get = lambda x: \"Index out of range!\"\n",
    "    def prepend(value):\n",
    "        nonlocal get\n",
    "        f = get\n",
    "        def get(i):\n",
    "            if i == 0:\n",
    "                return value\n",
    "            return f(i-1)\n",
    "    return prepend, lambda x: get(x)\n"
   ]
  },
  {
   "attachments": {},
   "cell_type": "markdown",
   "metadata": {},
   "source": [
    "### Question 2.3\n",
    "\n",
    "Fill in the definition of f below such that the interpreter prints as expected. **Your\n",
    "solution must be on one line.**\n",
    "```py\n",
    ">>> f = ________________________________________________\n",
    ">>> f = f(10)\n",
    "1 \n",
    "2\n",
    "3\n",
    "4\n",
    "5\n",
    "6\n",
    "7\n",
    "8\n",
    "9\n",
    "10\n",
    "```"
   ]
  },
  {
   "cell_type": "code",
   "execution_count": null,
   "metadata": {},
   "outputs": [],
   "source": [
    "f = lambda x: [print(i) for i in range(1, x+1)]"
   ]
  },
  {
   "attachments": {},
   "cell_type": "markdown",
   "metadata": {},
   "source": [
    "Then, given your definition of f, what will be printed below? (Assuming that the\n",
    "above lines have also been executed in the interpreter.)\n",
    "\n",
    "\\>>> f"
   ]
  },
  {
   "cell_type": "code",
   "execution_count": null,
   "metadata": {},
   "outputs": [],
   "source": [
    "[None, None, None, None, None, None, None, None, None, None]"
   ]
  },
  {
   "attachments": {},
   "cell_type": "markdown",
   "metadata": {},
   "source": [
    "### Question 2.4\n",
    "\n",
    "(Spring 2015) Implement the memory function, which takes a number x and a singleargument function f. It returns a function with a peculiar behavior that you must\n",
    "discover from the doctests. You may only use names and call expressions in your\n",
    "solution. You may not write numbers or use features of Python not yet covered in\n",
    "the course."
   ]
  },
  {
   "cell_type": "code",
   "execution_count": null,
   "metadata": {},
   "outputs": [],
   "source": [
    "square = lambda x: x * x\n",
    "double = lambda x: 2 * x\n",
    "def memory(x, y):\n",
    "    \"\"\"Return a higher-order function that prints its\n",
    "    memories.\n",
    "    >>> f = memory(3, lambda x: x)\n",
    "    >>> f = f(square)\n",
    "    3\n",
    "    >>> f = f(double)\n",
    "    9\n",
    "    >>> f = f(print)\n",
    "    6\n",
    "    >>> f = f(square)\n",
    "    3\n",
    "    None\n",
    "    \"\"\"\n",
    "    def g(h):\n",
    "        print(y(x))\n",
    "        return memory(x, h)\n",
    "    return g"
   ]
  },
  {
   "attachments": {},
   "cell_type": "markdown",
   "metadata": {},
   "source": [
    "### Question 2.5\n",
    "\n",
    "It’s Hog again! Write a commentary function **announce_losses** that takes in a player\n",
    "**who** and returns a commentary function that announces whenever that player loses\n",
    "points."
   ]
  },
  {
   "cell_type": "code",
   "execution_count": null,
   "metadata": {},
   "outputs": [],
   "source": [
    "def announce_losses(who, last_score=0):\n",
    "    \"\"\"\n",
    "    >>> f = announce_losses(0)\n",
    "    >>> f1 = f(10, 0)\n",
    "    >>> f2 = f1(1, 10) # Player 0 loses points due to swine swap\n",
    "    Oh no! Player 0 just lost 9 point(s).\n",
    "    >>> f3 = f2(7, 10)\n",
    "    >>> f4 = f3(7, 11) # Should not announce when player 0's score does not change\n",
    "    >>> f5 = f4(11, 12)\n",
    "    \"\"\"\n",
    "    assert who == 0 or who == 1, 'The who argument should indicate a player.'\n",
    "    def say(score0, score1):\n",
    "        if who == 0:\n",
    "            score = score0\n",
    "        elif who == 1:\n",
    "            score = score1\n",
    "        if last_score - score > 0:\n",
    "            print('Oh no! Player' + str(who) + 'just lost ' + str(last_score-score) + ' point(s).')\n",
    "        return announce_losses(who, score)\n",
    "    return say\n",
    "    "
   ]
  },
  {
   "attachments": {},
   "cell_type": "markdown",
   "metadata": {},
   "source": [
    "### Question 2.6\n",
    "\n",
    "(Fall 2013) The CS 61A staff has developed a formula for determining what a fox\n",
    "might say. Given three strings—a start, a middle, and an end—a fox will say the\n",
    "start string, followed by the middle string repeated a number of times, followed by\n",
    "the end string. These parts are all separated by single hyphens.\n",
    "\n",
    "Complete the definition of fox says, which takes the three string parts of the fox’s\n",
    "statement (start, middle, and end) and a positive integer num indicating how many\n",
    "times to repeat middle. It returns a string. You cannot use any for or while\n",
    "statements. Use recursion in repeat. Moreover, you cannot use string operations\n",
    "other than the + operator to concatenate strings together."
   ]
  },
  {
   "cell_type": "code",
   "execution_count": null,
   "metadata": {},
   "outputs": [],
   "source": [
    "def fox_says(start, middle, end, num):\n",
    "    \"\"\"\n",
    "    >>> fox_says('wa', 'pa', 'pow', 3)\n",
    "    'wa-pa-pa-pa-pow'\n",
    "    >>> fox_says('fraka', 'kaka', 'kow', 4)\n",
    "    'fraka-kaka-kaka-kaka-kaka-kow'\n",
    "    \"\"\"\n",
    "    def repeat(k):\n",
    "        if k == 1:\n",
    "            return middle\n",
    "        return middle + '-' + repeat(k - 1)\n",
    "    return start + '-' + repeat(num) + '-' + end"
   ]
  },
  {
   "attachments": {},
   "cell_type": "markdown",
   "metadata": {},
   "source": [
    "### Question 2.7\n",
    "\n",
    "The study of stress is still an open field of inquiry in linguistics—why do we say\n",
    "“alaBAma,” but “aLAbama” and “alabaMA” make us cringe? Or how did it come\n",
    "to be that “AMERICAN history professor” and “american HISTORY professor”\n",
    "mean two different things? One model that we use to understand stress actually\n",
    "employs the tree data structure!\n",
    "![Q2.7](../Picture/Disc06_Q2.7.png)\n",
    "In the above diagrams, every node has a “strong” child and a “weak” child, and\n",
    "primary stress is placed on the leaf that has the greatest number of strong parents.\n",
    "In the spirit of computational linguistics, let’s write a function that, given one of\n",
    "these tree structures, identifies the stressed part of a word or phrase."
   ]
  },
  {
   "cell_type": "code",
   "execution_count": 104,
   "metadata": {},
   "outputs": [],
   "source": [
    "def primary_stress(t):\n",
    "    \"\"\"\n",
    "    >>> word = tree(\"\", [\n",
    "    tree(\"w\", [tree(\"s\", [tree(\"min\")]), tree(\"w\", [tree(\"ne\")])]),\n",
    "    tree(\"s\", [tree(\"s\", [tree(\"so\")]), tree(\"w\", [tree(\"ta\")])])])\n",
    "    >>> primary_stress(word)\n",
    "    'so'\n",
    "    >>> phrase = tree(\"\", [\n",
    "    tree(\"s\", [tree(\"s\", [tree(\"law\")]), tree(\"w\", [tree(\"degree\")])]),\n",
    "    tree(\"w\", [tree(\"requirement\")])])\n",
    "    >>> primary_stress(phrase)\n",
    "    'law'\n",
    "    \"\"\"\n",
    "    def helper(t, num_s):\n",
    "        if is_leaf(t):\n",
    "            return [label(t), num_s]\n",
    "        if label(t) == 's':\n",
    "            num_s = num_s + 1\n",
    "        return max([helper(b, num_s) for b in branches(t)], key = lambda x: x[1])\n",
    "    return helper(t, 0)[0]"
   ]
  },
  {
   "attachments": {},
   "cell_type": "markdown",
   "metadata": {},
   "source": [
    "### Question 2.8\n",
    "\n",
    "Consider the subset sum problem: you are given a list of integers and a number k.\n",
    "Is there a subset of the list that adds up to k? For example:\n",
    "\n",
    "```py\n",
    ">>> subset_sum([2, 4, 7, 3], 5) # 2 + 3 = 5\n",
    "True\n",
    "\n",
    ">>> subset_sum([1, 9, 5, 7, 3], 2)\n",
    "False\n",
    "\n",
    ">>> subset_sum([1, 1, 5, -1], 3)\n",
    "False\n",
    "\n",
    "# Note: You can use the in operator to determine if an element belongs to a list:\n",
    "\n",
    ">>> 3 in [1, 2, 3]\n",
    "True\n",
    "\n",
    ">>> 4 in [1, 2, 3]\n",
    "False\n",
    "\n",
    "```"
   ]
  },
  {
   "cell_type": "code",
   "execution_count": 109,
   "metadata": {},
   "outputs": [],
   "source": [
    "def subset_sum(seq, k):\n",
    "    if len(seq) == 0:\n",
    "        return False\n",
    "    elif k in seq:\n",
    "        return True\n",
    "    else:\n",
    "        include = subset_sum(seq[1:], k-seq[0])\n",
    "        exclude = subset_sum(seq[1:], k)\n",
    "        return True in [include, exclude]"
   ]
  },
  {
   "attachments": {},
   "cell_type": "markdown",
   "metadata": {},
   "source": [
    "## 3 Tree ADT"
   ]
  },
  {
   "cell_type": "code",
   "execution_count": null,
   "metadata": {},
   "outputs": [],
   "source": [
    "# Constructor\n",
    "def tree(label, branches=[]):\n",
    "    \"\"\"Construct a tree with the given label value and a list of branches.\"\"\"\n",
    "    for branch in branches:\n",
    "        assert is_tree(branch)\n",
    "    return [label] + list(branches)\n",
    "\n",
    "# Selector\n",
    "def label(tree):\n",
    "    \"\"\"Return the label value of a tree.\"\"\"\n",
    "    return tree[0]\n",
    "\n",
    "# Selector\n",
    "def branches(tree):\n",
    "    \"\"\"Return the list of branches of the given tree.\"\"\"\n",
    "    return tree[1:]\n",
    "\n",
    "def is_tree(tree):\n",
    "    \"\"\"Returns True if the given tree is a tree, and False otherwise.\"\"\"\n",
    "    if type(tree) != list or len(tree) < 1:\n",
    "        return False\n",
    "    for branch in branches(tree):\n",
    "        if not is_tree(branch):\n",
    "            return False\n",
    "    return True\n",
    "\n",
    "# For convenience\n",
    "def is_leaf(tree):\n",
    "    \"\"\"Returns True if the given tree's list of branches is empty, and False otherwise.\"\"\"\n",
    "    return not branches(tree)\n"
   ]
  }
 ],
 "metadata": {
  "kernelspec": {
   "display_name": "Python 3",
   "language": "python",
   "name": "python3"
  },
  "language_info": {
   "codemirror_mode": {
    "name": "ipython",
    "version": 3
   },
   "file_extension": ".py",
   "mimetype": "text/x-python",
   "name": "python",
   "nbconvert_exporter": "python",
   "pygments_lexer": "ipython3",
   "version": "3.10.6"
  },
  "orig_nbformat": 4
 },
 "nbformat": 4,
 "nbformat_minor": 2
}
