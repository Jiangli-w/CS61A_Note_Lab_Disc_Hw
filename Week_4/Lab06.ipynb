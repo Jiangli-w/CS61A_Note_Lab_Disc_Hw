{
 "cells": [
  {
   "attachments": {},
   "cell_type": "markdown",
   "metadata": {},
   "source": [
    "# Lab 06: Nonlocal, Mutability\n",
    "\n",
    "## Nonlocal Codewriting\n",
    "\n",
    "### Q1: Make Adder Increasing\n",
    "\n",
    "Write a function which takes in an integer a and returns a one-argument function. This function should take in some value b and return a + b the first time it is called, similar to make_adder. The second time it is called, however, it should return a + b + 1, then a + b + 2 the third time, and so on."
   ]
  },
  {
   "cell_type": "code",
   "execution_count": 3,
   "metadata": {},
   "outputs": [],
   "source": [
    "def make_adder_inc(a):\n",
    "    \"\"\"\n",
    "    >>> adder1 = make_adder_inc(5)\n",
    "    >>> adder2 = make_adder_inc(6)\n",
    "    >>> adder1(2)\n",
    "    7\n",
    "    >>> adder1(2) # 5 + 2 + 1\n",
    "    8\n",
    "    >>> adder1(10) # 5 + 10 + 2\n",
    "    17\n",
    "    >>> [adder1(x) for x in [1, 2, 3]]\n",
    "    [9, 11, 13]\n",
    "    >>> adder2(5)\n",
    "    11\n",
    "    \"\"\"\n",
    "    \"*** YOUR CODE HERE ***\"\n",
    "    count = 0\n",
    "    def make_adder(x):\n",
    "        nonlocal count, a\n",
    "        result = a + x + count\n",
    "        count += 1\n",
    "        return result\n",
    "    return make_adder\n"
   ]
  },
  {
   "attachments": {},
   "cell_type": "markdown",
   "metadata": {},
   "source": [
    "### Q2: Next Fibonacci\n",
    "\n",
    "Write a function make_fib that returns a function that returns the next Fibonacci number each time it is called. (The Fibonacci sequence begins with 0 and then 1, after which each element is the sum of the preceding two.) Use a nonlocal statement! In addition, do not use python lists to solve this problem."
   ]
  },
  {
   "cell_type": "code",
   "execution_count": 22,
   "metadata": {},
   "outputs": [],
   "source": [
    "def make_fib():\n",
    "    \"\"\"Returns a function that returns the next Fibonacci number\n",
    "    every time it is called.\n",
    "\n",
    "    >>> fib = make_fib()\n",
    "    >>> fib()\n",
    "    0\n",
    "    >>> fib()\n",
    "    1\n",
    "    >>> fib()\n",
    "    1\n",
    "    >>> fib()\n",
    "    2\n",
    "    >>> fib()\n",
    "    3\n",
    "    >>> fib2 = make_fib()\n",
    "    >>> fib() + sum([fib2() for _ in range(5)])\n",
    "    12\n",
    "    >>> from construct_check import check\n",
    "    >>> # Do not use lists in your implementation\n",
    "    >>> check(this_file, 'make_fib', ['List'])\n",
    "    True\n",
    "    \"\"\"\n",
    "    \"*** YOUR CODE HERE ***\"\n",
    "    fib_a, fib_b = 0, 1\n",
    "    def next_fib():\n",
    "        nonlocal fib_a, fib_b\n",
    "        fib_next = fib_a + fib_b\n",
    "        result = fib_a\n",
    "        fib_a, fib_b = fib_b, fib_next\n",
    "        return result\n",
    "    return next_fib"
   ]
  },
  {
   "attachments": {},
   "cell_type": "markdown",
   "metadata": {},
   "source": [
    "## Mutability\n",
    "\n",
    "### Q3 :List-Mutation"
   ]
  },
  {
   "cell_type": "code",
   "execution_count": null,
   "metadata": {},
   "outputs": [],
   "source": [
    ">>> lst = [5, 6, 7, 8]\n",
    ">>> lst.append(6)\n",
    "Nothing\n",
    "\n",
    ">>> lst\n",
    "[5, 6, 7, 8, 6]\n",
    "\n",
    ">>> lst.insert(0, 9)\n",
    ">>> lst\n",
    "[9, 5, 6, 7, 8, 6]\n",
    "\n",
    ">>> x = lst.pop(2)\n",
    ">>> lst\n",
    "[9, 5, 7, 8, 6]\n",
    "\n",
    ">>> lst.remove(x)\n",
    ">>> lst\n",
    "[9, 5, 7, 8]\n",
    "\n",
    ">>> a, b = lst, lst[:]\n",
    ">>> a is lst\n",
    "True\n",
    "\n",
    ">>> b == lst\n",
    "True\n",
    "\n",
    ">>> b is lst\n",
    "False"
   ]
  },
  {
   "attachments": {},
   "cell_type": "markdown",
   "metadata": {},
   "source": [
    "### Q4: Insert Items\n",
    "\n",
    "Write a function which takes in a list lst, an argument entry, and another argument elem. This function will check through each item present in lst to see if it is equivalent with entry. Upon finding an equivalent entry, the function should modify the list by placing elem into the list right after the found entry. At the end of the function, the modified list should be returned. See the doctests for examples on how this function is utilized. Use list mutation to modify the original list, no new lists should be created or returned.\n",
    "\n",
    "**Be careful in situations where the values passed into entry and elem are equivalent, so as not to create an infinitely long list while iterating through it.** If you find that your code is taking more than a few seconds to run, it is most likely that the function is in a loop of inserting new values."
   ]
  },
  {
   "cell_type": "code",
   "execution_count": 23,
   "metadata": {},
   "outputs": [],
   "source": [
    "def insert_items(lst, entry, elem):\n",
    "    \"\"\"\n",
    "    >>> test_lst = [1, 5, 8, 5, 2, 3]\n",
    "    >>> new_lst = insert_items(test_lst, 5, 7)\n",
    "    >>> new_lst\n",
    "    [1, 5, 7, 8, 5, 7, 2, 3]\n",
    "    >>> large_lst = [1, 4, 8]\n",
    "    >>> large_lst2 = insert_items(large_lst, 4, 4)\n",
    "    >>> large_lst2\n",
    "    [1, 4, 4, 8]\n",
    "    >>> large_lst3 = insert_items(large_lst2, 4, 6)\n",
    "    >>> large_lst3\n",
    "    [1, 4, 6, 4, 6, 8]\n",
    "    >>> large_lst3 is large_lst\n",
    "    True\n",
    "    \"\"\"\n",
    "    \"*** YOUR CODE HERE ***\"\n",
    "    # 从后向前遍历，避免entry == elem时重复insert\n",
    "    for i in range(-len(lst), 0):\n",
    "        if lst[i] == entry:\n",
    "            lst.insert(i+1, elem)\n",
    "    return lst"
   ]
  },
  {
   "cell_type": "code",
   "execution_count": null,
   "metadata": {},
   "outputs": [],
   "source": []
  }
 ],
 "metadata": {
  "kernelspec": {
   "display_name": "Python 3",
   "language": "python",
   "name": "python3"
  },
  "language_info": {
   "codemirror_mode": {
    "name": "ipython",
    "version": 3
   },
   "file_extension": ".py",
   "mimetype": "text/x-python",
   "name": "python",
   "nbconvert_exporter": "python",
   "pygments_lexer": "ipython3",
   "version": "3.10.6"
  },
  "orig_nbformat": 4
 },
 "nbformat": 4,
 "nbformat_minor": 2
}
